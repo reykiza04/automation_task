﻿{
  "metadata": {
    "name": "Potential member report automation",
    "kernelspec": {
      "language": "scala",
      "name": "spark2-scala"
    },
    "language_info": {
      "codemirror_mode": "text/x-scala",
      "file_extension": ".scala",
      "mimetype": "text/x-scala",
      "name": "scala",
      "pygments_lexer": "scala"
    }
  },
  "nbformat": 4,
  "nbformat_minor": 2,
  "cells": [
    {
      "cell_type": "code",
      "execution_count": 0,
      "metadata": {
        "autoscroll": "auto"
      },
      "outputs": [],
      "source": "%python\nfrom tableau_api_lib import TableauServerConnection\nfrom tableau_api_lib.utils import querying, flatten_dict_column\nimport io\nfrom io import StringIO\nimport pandas as pd\nimport requests\nimport xml.etree.ElementTree as ET\nimport xmltodict\nimport pandas as pd\n\nimport numpy as np\nimport pandas as pd\nimport re, gc\nimport time, requests\nfrom datetime import datetime, timedelta\n# import datetime\nimport calendar\nfrom datetime import datetime, timedelta\n\nimport sqlalchemy as sql\nfrom sqlalchemy.pool import NullPool\nfrom urllib.parse import quote\n# from tqdm import tqdm\n\n\nfrom openpyxl.utils.dataframe import dataframe_to_rows\nfrom openpyxl import Workbook, load_workbook\nfrom openpyxl.styles import Font, PatternFill, Border, Side\n\n\n# Set display option to show all values without scientific notation\npd.set_option(\u0027display.float_format\u0027, \u0027{:.2f}\u0027.format)\nimport warnings\nwarnings.filterwarnings(\u0027ignore\u0027)\n\npd.set_option(\u0027display.max_columns\u0027, None)\n\n\nfrom openpyxl.styles import Font, PatternFill, Border, Side, Alignment\nfrom openpyxl.styles import NamedStyle\nimport shutil\nimport os"
    },
    {
      "cell_type": "markdown",
      "metadata": {},
      "source": "# Declare Function"
    },
    {
      "cell_type": "code",
      "execution_count": 2,
      "metadata": {
        "autoscroll": "auto"
      },
      "outputs": [],
      "source": "%python\nimport datetime\n\ndef monthdelta(date, delta):\n    m, y \u003d (date.month + delta) % 12, date.year + ((date.month) + delta - 1) // 12\n    if not m:\n        m \u003d 12\n    d \u003d min(date.day, [31, 29 if y % 4 \u003d\u003d 0 and (not y % 100 \u003d\u003d 0 or y % 400 \u003d\u003d 0) else 28,\n                       31, 30, 31, 30, 31, 31, 30, 31, 30, 31][m - 1])\n    return date.replace(day\u003dd, month\u003dm, year\u003dy)\n\ntoday \u003d datetime.datetime.today()\n\n# Get the start period for the transaction (one month ago from today)\nstart_period \u003d monthdelta(today, -1).replace(day\u003d1).date()\n\n# Get the end period for the transaction (first day of the next month)\nend_period \u003d monthdelta(today, 0).replace(day\u003d1).date()\n\nmonth_name \u003d start_period.strftime(\"%B\")  # Get the month name (e.g., June, July, etc.)\nvPeriod \u003d start_period.strftime(\"%Y%m\")  # Format start_period directly\ngvPeriod \u003d start_period.strftime(\"%Y\")   # Format only the year from start_period\n\nprint(\"start_period \u003d\", start_period.strftime(\"%Y-%m-%d\"))\nprint(\"end_period \u003d\", end_period.strftime(\"%Y-%m-%d\"))\nprint(\u0027month_name \u003d\u0027, month_name)\nprint(\u0027vPeriod \u003d\u0027, vPeriod)\nprint(\u0027gvPeriod \u003d\u0027, gvPeriod)\n"
    },
    {
      "cell_type": "code",
      "execution_count": 3,
      "metadata": {
        "autoscroll": "auto"
      },
      "outputs": [],
      "source": "%python\nfrom datetime import datetime, timedelta\nimport pandas as pd\n\ndef get_current_monday():\n    today \u003d datetime.now()\n    days_until_monday \u003d today.weekday()\n    current_monday \u003d today - timedelta(days\u003ddays_until_monday)\n    return current_monday.strftime(\u0027%Y-%m-%d\u0027)\n\ndef get_previous_monday():\n    today \u003d datetime.now()\n    days_until_monday \u003d today.weekday()\n    previous_monday \u003d today - timedelta(days\u003ddays_until_monday + 7)\n    return previous_monday.strftime(\u0027%Y-%m-%d\u0027)\n\n# Get the dates for the current and previous Monday\nthis_monday \u003d get_current_monday()\nprevious_monday \u003d get_previous_monday()\n"
    },
    {
      "cell_type": "code",
      "execution_count": 4,
      "metadata": {
        "autoscroll": "auto"
      },
      "outputs": [],
      "source": "%python\n# comma style uda bisa\n\n# GOOD\n\n\n# Define a function to apply styling to a worksheet\ndef apply_styling(ws):\n    # Apply styling to the header row\n    header_font \u003d Font(bold\u003dTrue)\n    header_fill \u003d PatternFill(start_color\u003d\u0027D3D3D3\u0027, end_color\u003d\u0027D3D3D3\u0027, fill_type\u003d\u0027solid\u0027)\n    header_border \u003d Border(left\u003dSide(border_style\u003d\u0027thin\u0027, color\u003d\u0027000000\u0027),\n                           right\u003dSide(border_style\u003d\u0027thin\u0027, color\u003d\u0027000000\u0027),\n                           top\u003dSide(border_style\u003d\u0027thin\u0027, color\u003d\u0027000000\u0027),\n                           bottom\u003dSide(border_style\u003d\u0027thin\u0027, color\u003d\u0027000000\u0027))\n\n    for cell in ws[\u00271\u0027]:\n        cell.font \u003d header_font\n        cell.fill \u003d header_fill\n        cell.border \u003d header_border\n        cell.alignment \u003d Alignment(wrap_text\u003dTrue)  # Add text wrapping to header cells\n\n    # Apply styling to the data cells\n    data_font \u003d Font()\n    data_fill \u003d PatternFill(start_color\u003d\u0027EFEFEF\u0027, end_color\u003d\u0027EFEFEF\u0027, fill_type\u003d\u0027solid\u0027)\n    data_border \u003d Border(left\u003dSide(border_style\u003d\u0027thin\u0027, color\u003d\u0027BFBFBF\u0027),\n                        right\u003dSide(border_style\u003d\u0027thin\u0027, color\u003d\u0027BFBFBF\u0027),\n                        top\u003dSide(border_style\u003d\u0027thin\u0027, color\u003d\u0027BFBFBF\u0027),\n                        bottom\u003dSide(border_style\u003d\u0027thin\u0027, color\u003d\u0027BFBFBF\u0027))\n\n    # Create a custom style with number format\n    number_format_style \u003d NamedStyle(name\u003d\u0027number_format_style\u0027, number_format\u003d\u0027#,##0\u0027)\n\n    for row in ws.iter_rows(min_row\u003d2, max_row\u003dws.max_row, min_col\u003d1, max_col\u003dws.max_column):\n        for cell in row:\n            if isinstance(cell.value, (int, float)):\n                # Apply the custom style with number format\n                cell.style \u003d number_format_style\n            cell.font \u003d data_font\n            cell.fill \u003d data_fill\n            cell.border \u003d data_border\n            cell.alignment \u003d Alignment(wrap_text\u003dTrue)  # Add text wrapping to data cells\n\n    # Adjust column width to fit content\n    for column in ws.columns:\n        max_length \u003d 0\n        column \u003d [cell for cell in column]\n        for cell in column:\n            try:\n                if len(str(cell.value)) \u003e max_length:\n                    max_length \u003d len(cell.value)\n            except:\n                pass\n        adjusted_width \u003d (max_length + 2)\n        ws.column_dimensions[column[0].column_letter].width \u003d adjusted_width\n\n    \n    # Add AutoFilter to the worksheet\n    ws.auto_filter.ref \u003d ws.dimensions\n"
    },
    {
      "cell_type": "code",
      "execution_count": 5,
      "metadata": {
        "autoscroll": "auto"
      },
      "outputs": [],
      "source": "%python\ndef process_dataframe(df):\n    # Select specific columns and rename them\n    df \u003d df.iloc[:, [0, 1, 2, 4, 5, 6, 7, 8, 9]].rename(columns\u003d{\n        \u0027Unnamed: 0\u0027: \u0027Sbu Group\u0027,\n        \u0027Unnamed: 1\u0027: \u0027Concept\u0027,\n        \u0027Unnamed: 2\u0027: \u0027Store Name\u0027,\n        \u0027# Member\u0027: \u0027Unique Member\u0027,\n        \u0027# Potential MAPCLUB Member\u0027: \u0027Potential MAPCLUB Member\u0027,\n        \u0027# Member Transaction\u0027: \u0027Member Transaction\u0027,\n        \u0027# Non Member Transaction\u0027: \u0027Non Member Transaction\u0027,\n        \u0027Total Sales\u0027: \u0027Member Sales\u0027,\n        \u0027Sales Non Member\u0027: \u0027Non Member Sales\u0027\n    })\n    \n    # Fill NaN values using forward fill\n    df.fillna(method\u003d\u0027ffill\u0027, inplace\u003dTrue)\n    \n    return df"
    },
    {
      "cell_type": "code",
      "execution_count": 6,
      "metadata": {
        "autoscroll": "auto"
      },
      "outputs": [],
      "source": "%python\nimport shutil\n\ndef delete_folder(folder_path):\n    try:\n        shutil.rmtree(folder_path)\n        print(f\"The folder \u0027{folder_path}\u0027 has been successfully deleted.\")\n    except OSError as e:\n        print(f\"Error: {e}\")\n\n# Example usage:\nfolder_to_delete \u003d r\u0027/opt/zeppelin/output_pm\u0027\ndelete_folder(folder_to_delete)\n"
    },
    {
      "cell_type": "code",
      "execution_count": 7,
      "metadata": {
        "autoscroll": "auto"
      },
      "outputs": [],
      "source": "%python\n\n# Create again table\nfolder_name \u003d r\u0027/opt/zeppelin/output_pm\u0027\n\n# Check if the folder already exists\nif not os.path.exists(folder_name):\n    # Create the folder\n    os.makedirs(folder_name)\n    print(f\"The \u0027{folder_name}\u0027 folder has been created.\")\nelse:\n    print(f\"The \u0027{folder_name}\u0027 folder already exists.\")\n"
    },
    {
      "cell_type": "markdown",
      "metadata": {},
      "source": "# Configuration"
    },
    {
      "cell_type": "code",
      "execution_count": 9,
      "metadata": {
        "autoscroll": "auto"
      },
      "outputs": [],
      "source": "%python\nconfig \u003d {\n    \u0027tableau_prod_loyalty\u0027: {\n        \u0027server\u0027: \u0027https://visual.synectics.io/\u0027,\n        \u0027api_version\u0027: \u00273.19\u0027,\n        \u0027personal_access_token_name\u0027: \u0027zeppelin_task\u0027,\n        \u0027personal_access_token_secret\u0027: \u00274++/at5yT1+aNAgOPL6XDw\u003d\u003d:RXO4TBaSNqrMl6faqTFP9bLQJIK9b31D\u0027,\n        \u0027site_name\u0027: \u0027Loyalty\u0027,\n        \u0027site_url\u0027: \u0027Loyalty\u0027\n    }\n}\nconnection \u003d TableauServerConnection(config_json\u003dconfig, env\u003d\u0027tableau_prod_loyalty\u0027)\n\nconnection.sign_in()\n\n"
    },
    {
      "cell_type": "code",
      "execution_count": 10,
      "metadata": {
        "autoscroll": "auto"
      },
      "outputs": [],
      "source": "%python\nworkbook_df \u003d querying.get_workbooks_dataframe(conn\u003dconnection)\ntarget_workbook_df \u003d (\n    workbook_df\n    .where(workbook_df[\u0027name\u0027]\u003d\u003d\"Automation Potential Member\")\n    .dropna()\n)"
    },
    {
      "cell_type": "code",
      "execution_count": 11,
      "metadata": {
        "autoscroll": "auto"
      },
      "outputs": [],
      "source": "%python\n#GET Auth API\nurl \u003d \"https://visual.synectics.io/api/3.19/auth/signin\"\n\nheaders \u003d {\n    \"Content-Type\": \"application/json\",\n}\n\ndata \u003d {\n    \"credentials\": {\n        \"name\": \"administrator\",\n        \"password\": \"Palembang321$\",\n        \"site\": {\n            \"contentUrl\": \"Loyalty\"\n        }\n    }\n}\n\nresponse \u003d requests.post(url, headers\u003dheaders, json\u003ddata)\n# Parse XML to dictionary\nxml_dict \u003d xmltodict.parse(response.text)\n#Store XML Value to variables\ncredentials_token \u003d xml_dict[\u0027tsResponse\u0027][\u0027credentials\u0027][\u0027@token\u0027]\nsite_id \u003d xml_dict[\u0027tsResponse\u0027][\u0027credentials\u0027][\u0027site\u0027][\u0027@id\u0027]\ncontent_url \u003d xml_dict[\u0027tsResponse\u0027][\u0027credentials\u0027][\u0027site\u0027][\u0027@contentUrl\u0027]\nuser_id \u003d xml_dict[\u0027tsResponse\u0027][\u0027credentials\u0027][\u0027user\u0027][\u0027@id\u0027]"
    },
    {
      "cell_type": "code",
      "execution_count": 12,
      "metadata": {
        "autoscroll": "auto"
      },
      "outputs": [],
      "source": "%python\ntarget_view_df \u003d querying.get_views_for_workbook_dataframe(\n    conn\u003dconnection,\n    workbook_id\u003dtarget_workbook_df[\u0027id\u0027].to_list().pop()\n)"
    },
    {
      "cell_type": "raw",
      "metadata": {
        "format": "text/plain"
      },
      "source": "%python\n"
    },
    {
      "cell_type": "code",
      "execution_count": 14,
      "metadata": {
        "autoscroll": "auto"
      },
      "outputs": [],
      "source": "%python\ndashboard_id \u003d (\n        target_view_df\n        .where(target_view_df[\u0027name\u0027]\u003d\u003d\u0027PLI\u0027)\n        .dropna()\n        .get(\u0027id\u0027).to_list().pop()\n        )\nurl \u003d \"https://visual.synectics.io/api/3.14/sites/a2d01dc4-592a-4117-aa40-d023e5ccacb6/views/\"+dashboard_id+\"/crosstab/excel\"\napi_key \u003d credentials_token\nheaders \u003d {\n    \"Authorization\": f\"Bearer {api_key}\"\n}\nresponse \u003d requests.get(url, headers\u003dheaders)\ndf_PLI \u003d pd.read_excel(pd.ExcelFile(io.BytesIO(response.content)))\ndf_PLI \u003d process_dataframe(df_PLI)\n\nfile_name \u003d (f\"output_pm/Weekly_Potential_Member_-_PLI_{this_monday}.xlsx\".format(this_monday\u003dthis_monday))\n# Create a workbook and a worksheet\nwb \u003d Workbook()\nws \u003d wb.active\n# Add the DataFrame to the worksheet\nfor r in dataframe_to_rows(df_PLI, index\u003dFalse, header\u003dTrue):\n    ws.append(r)\napply_styling(ws)\n\n# Save the Excel file\nwb.save(file_name)\n\nprint(f\"Weekly_Potential_Member_-_PLI Excel file saved successfully.\")"
    },
    {
      "cell_type": "code",
      "execution_count": 15,
      "metadata": {
        "autoscroll": "auto"
      },
      "outputs": [],
      "source": "%python\ndashboard_id \u003d (\n        target_view_df\n        .where(target_view_df[\u0027name\u0027]\u003d\u003d\u0027Active\u0027)\n        .dropna()\n        .get(\u0027id\u0027).to_list().pop()\n        )\nurl \u003d \"https://visual.synectics.io/api/3.14/sites/a2d01dc4-592a-4117-aa40-d023e5ccacb6/views/\"+dashboard_id+\"/crosstab/excel\"\napi_key \u003d credentials_token\nheaders \u003d {\n    \"Authorization\": f\"Bearer {api_key}\"\n}\nresponse \u003d requests.get(url, headers\u003dheaders)\n\ndf_Active \u003d pd.read_excel(pd.ExcelFile(io.BytesIO(response.content)))\ndf_Active \u003d process_dataframe(df_Active)\n\nfile_name \u003d (f\"output_pm/Weekly_Potential_Member_-_Active_{this_monday}.xlsx\".format(this_monday\u003dthis_monday))\n# Create a workbook and a worksheet\nwb \u003d Workbook()\nws \u003d wb.active\n# Add the DataFrame to the worksheet\nfor r in dataframe_to_rows(df_Active, index\u003dFalse, header\u003dTrue):\n    ws.append(r)\napply_styling(ws)\n\n# Save the Excel file\nwb.save(file_name)\n\nprint(f\"Weekly_Potential_Member_-_Active Excel file saved successfully.\")\n"
    },
    {
      "cell_type": "code",
      "execution_count": 16,
      "metadata": {
        "autoscroll": "auto"
      },
      "outputs": [],
      "source": "%python\ndashboard_id \u003d (\n        target_view_df\n        .where(target_view_df[\u0027name\u0027]\u003d\u003d\u0027Digimap\u0027)\n        .dropna()\n        .get(\u0027id\u0027).to_list().pop()\n        )\nurl \u003d \"https://visual.synectics.io/api/3.14/sites/a2d01dc4-592a-4117-aa40-d023e5ccacb6/views/\"+dashboard_id+\"/crosstab/excel\"\napi_key \u003d credentials_token\nheaders \u003d {\n    \"Authorization\": f\"Bearer {api_key}\"\n}\nresponse \u003d requests.get(url, headers\u003dheaders)\n\ndf_Digimap \u003d pd.read_excel(pd.ExcelFile(io.BytesIO(response.content)))\ndf_Digimap \u003d process_dataframe(df_Digimap)\n\nfile_name \u003d (f\"output_pm/Weekly_Potential_Member_-_Digimap_{this_monday}.xlsx\".format(this_monday\u003dthis_monday))\n# Create a workbook and a worksheet\nwb \u003d Workbook()\nws \u003d wb.active\n# Add the DataFrame to the worksheet\nfor r in dataframe_to_rows(df_Digimap, index\u003dFalse, header\u003dTrue):\n    ws.append(r)\napply_styling(ws)\n\n# Save the Excel file\nwb.save(file_name)\n\nprint(f\"Weekly_Potential_Member_-_Digimap Excel file saved successfully.\")\n"
    },
    {
      "cell_type": "code",
      "execution_count": 17,
      "metadata": {
        "autoscroll": "auto"
      },
      "outputs": [],
      "source": "%python\ndashboard_id \u003d (\n        target_view_df\n        .where(target_view_df[\u0027name\u0027]\u003d\u003d\u0027F\u0026B\u0027)\n        .dropna()\n        .get(\u0027id\u0027).to_list().pop()\n        )\nurl \u003d \"https://visual.synectics.io/api/3.14/sites/a2d01dc4-592a-4117-aa40-d023e5ccacb6/views/\"+dashboard_id+\"/crosstab/excel\"\napi_key \u003d credentials_token\nheaders \u003d {\n    \"Authorization\": f\"Bearer {api_key}\"\n}\nresponse \u003d requests.get(url, headers\u003dheaders)\n\ndf_FnB \u003d pd.read_excel(pd.ExcelFile(io.BytesIO(response.content)))\ndf_FnB \u003d process_dataframe(df_FnB)\n\nfile_name \u003d (f\"output_pm/Weekly_Potential_Member_-_F\u0026B_{this_monday}.xlsx\".format(this_monday\u003dthis_monday))\n# Create a workbook and a worksheet\nwb \u003d Workbook()\nws \u003d wb.active\n# Add the DataFrame to the worksheet\nfor r in dataframe_to_rows(df_FnB, index\u003dFalse, header\u003dTrue):\n    ws.append(r)\napply_styling(ws)\n\n# Save the Excel file\nwb.save(file_name)\n\nprint(f\"Weekly_Potential_Member_-_Fnb Excel file saved successfully.\")\n"
    },
    {
      "cell_type": "code",
      "execution_count": 18,
      "metadata": {
        "autoscroll": "auto"
      },
      "outputs": [],
      "source": "%python\ndashboard_id \u003d (\n        target_view_df\n        .where(target_view_df[\u0027name\u0027]\u003d\u003d\u0027Fashion\u0027)\n        .dropna()\n        .get(\u0027id\u0027).to_list().pop()\n        )\nurl \u003d \"https://visual.synectics.io/api/3.14/sites/a2d01dc4-592a-4117-aa40-d023e5ccacb6/views/\"+dashboard_id+\"/crosstab/excel\"\napi_key \u003d credentials_token\nheaders \u003d {\n    \"Authorization\": f\"Bearer {api_key}\"\n}\nresponse \u003d requests.get(url, headers\u003dheaders)\n\ndf_Fashion \u003d pd.read_excel(pd.ExcelFile(io.BytesIO(response.content)))\ndf_Fashion \u003d process_dataframe(df_Fashion)\n\nfile_name \u003d (f\"output_pm/Weekly_Potential_Member_-_Fashion_{this_monday}.xlsx\".format(this_monday\u003dthis_monday))\n# Create a workbook and a worksheet\nwb \u003d Workbook()\nws \u003d wb.active\n# Add the DataFrame to the worksheet\nfor r in dataframe_to_rows(df_Fashion, index\u003dFalse, header\u003dTrue):\n    ws.append(r)\napply_styling(ws)\n\n# Save the Excel file\nwb.save(file_name)\n\nprint(f\"Weekly_Potential_Member_-_Fashion Excel file saved successfully.\")\n"
    },
    {
      "cell_type": "code",
      "execution_count": 19,
      "metadata": {
        "autoscroll": "auto"
      },
      "outputs": [],
      "source": "%python\ndashboard_id \u003d (\n        target_view_df\n        .where(target_view_df[\u0027name\u0027]\u003d\u003d\u0027Foodhall\u0027)\n        .dropna()\n        .get(\u0027id\u0027).to_list().pop()\n        )\nurl \u003d \"https://visual.synectics.io/api/3.14/sites/a2d01dc4-592a-4117-aa40-d023e5ccacb6/views/\"+dashboard_id+\"/crosstab/excel\"\napi_key \u003d credentials_token\nheaders \u003d {\n    \"Authorization\": f\"Bearer {api_key}\"\n}\nresponse \u003d requests.get(url, headers\u003dheaders)\n\ndf_Foodhall \u003d pd.read_excel(pd.ExcelFile(io.BytesIO(response.content)))\ndf_Foodhall \u003d process_dataframe(df_Foodhall)\n\nfile_name \u003d (f\"output_pm/Weekly_Potential_Member_-_Foodhall_{this_monday}.xlsx\".format(this_monday\u003dthis_monday))\n# Create a workbook and a worksheet\nwb \u003d Workbook()\nws \u003d wb.active\n# Add the DataFrame to the worksheet\nfor r in dataframe_to_rows(df_Foodhall, index\u003dFalse, header\u003dTrue):\n    ws.append(r)\napply_styling(ws)\n\n# Save the Excel file\nwb.save(file_name)\n\nprint(f\"Weekly_Potential_Member_-_Foodhall Excel file saved successfully.\")\n"
    },
    {
      "cell_type": "code",
      "execution_count": 20,
      "metadata": {
        "autoscroll": "auto"
      },
      "outputs": [],
      "source": "%python\ntarget_view_df"
    },
    {
      "cell_type": "code",
      "execution_count": 21,
      "metadata": {
        "autoscroll": "auto"
      },
      "outputs": [],
      "source": "%python\ndashboard_id \u003d (\n        target_view_df\n        .where(target_view_df[\u0027name\u0027]\u003d\u003d\u0027Travel\u0027)\n        .dropna()\n        .get(\u0027id\u0027).to_list().pop()\n        )\nurl \u003d \"https://visual.synectics.io/api/3.14/sites/a2d01dc4-592a-4117-aa40-d023e5ccacb6/views/\"+dashboard_id+\"/crosstab/excel\"\napi_key \u003d credentials_token\nheaders \u003d {\n    \"Authorization\": f\"Bearer {api_key}\"\n}\nresponse \u003d requests.get(url, headers\u003dheaders)\n\ndf_Travel \u003d pd.read_excel(pd.ExcelFile(io.BytesIO(response.content)))\ndf_Travel \u003d process_dataframe(df_Travel)\n# df_Travel\nfile_name \u003d (f\"output_pm/Weekly_Potential_Member_-_Travel_{this_monday}.xlsx\".format(this_monday\u003dthis_monday))\n# Create a workbook and a worksheet\nwb \u003d Workbook()\nws \u003d wb.active\n# Add the DataFrame to the worksheet\nfor r in dataframe_to_rows(df_Travel, index\u003dFalse, header\u003dTrue):\n    ws.append(r)\napply_styling(ws)\n\n# Save the Excel file\nwb.save(file_name)\n\nprint(f\"Weekly_Potential_Member_-_Travel Excel file saved successfully.\")\n"
    },
    {
      "cell_type": "code",
      "execution_count": 22,
      "metadata": {
        "autoscroll": "auto"
      },
      "outputs": [],
      "source": "%python\n# import pandas as pd\n\n# Assuming you already have DataFrames named df_PLI, df_Active, etc.\n\n# Create a tuple of DataFrames\nsheets \u003d (df_PLI, df_Active, df_Digimap, df_FnB, df_Fashion, df_Foodhall, df_Travel)\n\n# Select .iloc[1:] for each DataFrame and concatenate them\ncombined_df \u003d pd.concat([df.iloc[1:] for df in sheets], ignore_index\u003dTrue)\n\n# # Print the combined DataFrame\n# # print(combined_df)\n# combined_df.to_excel(f\"output/Weekly_Potential_Member_-_All_SBU_{this_monday}.xlsx\".format(this_monday\u003dthis_monday))\n\nfile_name \u003d (f\"output_pm/Weekly_Potential_Member_-_All_SBU_{this_monday}.xlsx\".format(this_monday\u003dthis_monday))\n# Create a workbook and a worksheet\nwb \u003d Workbook()\nws \u003d wb.active\n# Add the DataFrame to the worksheet\nfor r in dataframe_to_rows(combined_df, index\u003dFalse, header\u003dTrue):\n    ws.append(r)\napply_styling(ws)\n\n# Save the Excel file\nwb.save(file_name)\n\nprint(f\"Weekly_Potential_Member_-_All_SBU Excel file saved successfully.\")\n"
    },
    {
      "cell_type": "raw",
      "metadata": {
        "format": "text/plain"
      },
      "source": "%python\n"
    },
    {
      "cell_type": "code",
      "execution_count": 24,
      "metadata": {
        "autoscroll": "auto"
      },
      "outputs": [],
      "source": "%python\n#running query\n\nimport os\nimport datetime\nimport smtplib\nfrom email.mime.multipart import MIMEMultipart\nfrom email.mime.text import MIMEText\nfrom email.mime.application import MIMEApplication\n\n# Date formatting\ntoday \u003d datetime.date.today()\nthis_monday \u003d today - datetime.timedelta(days\u003dtoday.weekday())\nprevious_monday \u003d this_monday - datetime.timedelta(days\u003d7)\n\n# Email configuration\n\nsender_email \u003d \"dp-alert@notify.gtech.digital\"\nsender_password \u003d \"WTPQndoRvwc2i8\"\nreceiver_email \u003d \"michel.hamilton@gtech.digital\"\ncc_receiver_email \u003d \"reyki.seprianza@gtech.digital, budi.santoso@mapclub.com, michael.danendra@mapclub.com, marcella.dewi@mapclub.com, rian.andrea@gtech.digital\"\n\nsubject \u003d \"Weekly Potential Member-{}\".format(this_monday)\n# body \u003d \"Dear Pak Michel Hamilton, \\nBerikut kami kirimkan Potential Dashboard untuk periode \\nDari tanggal {} sampai dengan {}\\n\\n\\n\\n Testing kok guys\".format(previous_monday,this_monday)\nbody \u003d \"Dear Pak Michel,\\n\\nKindly find the weekly email update (Store Performance) with the period of {} to {} on the attached files. \\nThank you.\\n\\nBest regards,\\n\\nAutomatic System\\n\\n\\n\\n\\n\\n\".format(previous_monday,this_monday)\n# Excel attachment configuration\nattachment_folder \u003d \u0027/opt/zeppelin/output_pm\u0027\n\n# Compose the email\nmsg \u003d MIMEMultipart()\nmsg[\"From\"] \u003d sender_email\nmsg[\"To\"] \u003d receiver_email\nmsg[\"Subject\"] \u003d subject\nmsg[\"Cc\"] \u003d cc_receiver_email\n\n\nmsg.attach(MIMEText(body, \"plain\"))\n\n# Attach all Excel files in the folder\nfor filename in os.listdir(attachment_folder):\n    if filename.endswith(\".xlsx\"):\n        file_path \u003d os.path.join(attachment_folder, filename)\n        with open(file_path, \"rb\") as f:\n            attachment \u003d MIMEApplication(f.read(), _subtype\u003d\"xlsx\")\n            attachment.add_header(\"Content-Disposition\", \"attachment\", filename\u003dfilename)\n            msg.attach(attachment)\n\n# Send the email\nwith smtplib.SMTP(\u0027smtpdm-ap-southeast-1.aliyun.com\u0027, 80) as server:\n    server.login(sender_email, sender_password)\n    server.send_message(msg)\n    print(\"Email sent successfully!\")\n"
    }
  ]
}