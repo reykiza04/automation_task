{
 "cells": [
  {
   "cell_type": "code",
   "execution_count": 49,
   "id": "4d2e6728-e54c-4ee3-b1cb-8543041df6fb",
   "metadata": {
    "tags": []
   },
   "outputs": [],
   "source": [
    "import numpy as np\n",
    "import pandas as pd\n",
    "import re, gc\n",
    "import time, requests\n",
    "from datetime import datetime, timedelta\n",
    "import calendar\n",
    "\n",
    "import sqlalchemy as sql\n",
    "from sqlalchemy.pool import NullPool\n",
    "from urllib.parse import quote\n",
    "from tqdm import tqdm\n",
    "\n",
    "import warnings\n",
    "warnings.filterwarnings('ignore')\n",
    "\n",
    "pd.set_option('display.max_columns', None)\n",
    "\n",
    "# !pip install mysqlclient==2.1.1"
   ]
  },
  {
   "cell_type": "code",
   "execution_count": 50,
   "id": "1da52410",
   "metadata": {},
   "outputs": [
    {
     "name": "stdout",
     "output_type": "stream",
     "text": [
      "start_period = 2023-06-01\n",
      "end_period = 2023-06-30\n"
     ]
    }
   ],
   "source": [
    "import datetime\n",
    "import calendar\n",
    "\n",
    "def monthdelta(date, delta):\n",
    "    m, y = (date.month + delta) % 12, date.year + ((date.month) + delta - 1) // 12\n",
    "    if not m:\n",
    "        m = 12\n",
    "    d = min(date.day, [31, 29 if y % 4 == 0 and (not y % 100 == 0 or y % 400 == 0) else 28,\n",
    "                       31, 30, 31, 30, 31, 31, 30, 31, 30, 31][m - 1])\n",
    "    return date.replace(day=d, month=m, year=y)\n",
    "\n",
    "today = datetime.datetime.today()\n",
    "\n",
    "# Get the start period for the transaction (one month ago from today)\n",
    "start_period = monthdelta(today, -1).replace(day=1).date()\n",
    "\n",
    "# Get the end period for the transaction (last day of one month ago from today)\n",
    "end_period = monthdelta(today, -1)\n",
    "end_period = end_period.replace(day=calendar.monthrange(end_period.year, end_period.month)[1]).date()\n",
    "\n",
    "print(\"start_period =\", start_period.strftime(\"%Y-%m-%d\"))\n",
    "print(\"end_period =\", end_period.strftime(\"%Y-%m-%d\"))\n"
   ]
  },
  {
   "cell_type": "code",
   "execution_count": 51,
   "id": "fe629bc5-775c-4923-820f-572c5549ab28",
   "metadata": {
    "tags": []
   },
   "outputs": [
    {
     "data": {
      "text/plain": [
       "<sqlalchemy.engine.base.Connection at 0x21f5783a8c0>"
      ]
     },
     "execution_count": 51,
     "metadata": {},
     "output_type": "execute_result"
    }
   ],
   "source": [
    "username = \"\"\n",
    "password = \"\"\n",
    "host = \"\"\n",
    "\n",
    "connect_string_segtor = 'mysql://'+username+':'+quote(password)+'@'+host+'/?charset=utf8mb4'\n",
    "sql_engine_segtor = sql.create_engine(connect_string_segtor, poolclass=NullPool)\n",
    "sql_engine_segtor.connect()"
   ]
  },
  {
   "cell_type": "code",
   "execution_count": 52,
   "id": "036a2ba9-8c97-41fb-8de4-5c122a70e3cd",
   "metadata": {
    "tags": []
   },
   "outputs": [],
   "source": [
    "\n",
    "# dinamic1 use this because can provide all data exist\n",
    "# SQL Query with start_period and end_period\n",
    "q = f'''\n",
    "SELECT segment_name, owner_email, approved\n",
    "FROM db_segmentgenerator.segtor_jobs_v2\n",
    "WHERE DATE(submit_date) >= '{start_period}'\n",
    "AND DATE(submit_date) <= '{end_period}'\n",
    "'''\n",
    "\n",
    "\n",
    "df = pd.read_sql(q, sql_engine_segtor)"
   ]
  },
  {
   "cell_type": "code",
   "execution_count": 53,
   "id": "74d2cec4-2ed4-41ff-9a0f-0cd3b8688392",
   "metadata": {
    "tags": []
   },
   "outputs": [],
   "source": [
    "df1 = df.groupby('owner_email').size().reset_index().rename(columns={0: 'Tasks Created'})"
   ]
  },
  {
   "cell_type": "code",
   "execution_count": 54,
   "id": "a29a6fa6-82a0-420e-95f7-e620dceac4f6",
   "metadata": {
    "tags": []
   },
   "outputs": [],
   "source": [
    "df2 = df[df['approved'] == 1].drop_duplicates(subset=['segment_name']).groupby('owner_email').size().reset_index().rename(columns={0: 'Segments Uploaded'})"
   ]
  },
  {
   "cell_type": "code",
   "execution_count": 55,
   "id": "cb0be653-8303-43cc-8ba7-b2f2d2543f58",
   "metadata": {
    "tags": []
   },
   "outputs": [],
   "source": [
    "final_df = df1.merge(df2, how='left', on='owner_email').fillna(0)"
   ]
  },
  {
   "cell_type": "markdown",
   "id": "36a1660b-0f6a-4bce-a585-54312ec7f166",
   "metadata": {},
   "source": [
    "## Rules\n",
    "\n",
    "- Tasks Created means : the user created a segment (not approved yet), so it only receive 1 email\n",
    "\n",
    "- Segments Uploaded\tmeans: the user approved this segment, he/she will receive another <b>callback</b> email (+ 1), also send <b>campaign tagger</b> email to operation (+ 1)\n",
    "\n",
    "------------------------------\n",
    "\n",
    "Email Usage: Task Created + (Segments Uploaded * 2)"
   ]
  },
  {
   "cell_type": "code",
   "execution_count": 56,
   "id": "b5ff3c62-c7eb-439a-af80-e1db762c224f",
   "metadata": {
    "tags": []
   },
   "outputs": [],
   "source": [
    "final_df['Segments Uploaded'] = final_df['Segments Uploaded'].astype(int)\n",
    "final_df['Email Usage'] = final_df['Tasks Created'] + (final_df['Segments Uploaded'] * 2)\n",
    "final_df = final_df.rename(columns={'owner_email': 'User Email'})"
   ]
  },
  {
   "cell_type": "code",
   "execution_count": 57,
   "id": "c87a1c93-ce36-4a0f-80c5-48ff4f8c3177",
   "metadata": {
    "tags": []
   },
   "outputs": [
    {
     "data": {
      "text/html": [
       "<div>\n",
       "<style scoped>\n",
       "    .dataframe tbody tr th:only-of-type {\n",
       "        vertical-align: middle;\n",
       "    }\n",
       "\n",
       "    .dataframe tbody tr th {\n",
       "        vertical-align: top;\n",
       "    }\n",
       "\n",
       "    .dataframe thead th {\n",
       "        text-align: right;\n",
       "    }\n",
       "</style>\n",
       "<table border=\"1\" class=\"dataframe\">\n",
       "  <thead>\n",
       "    <tr style=\"text-align: right;\">\n",
       "      <th></th>\n",
       "      <th>User Email</th>\n",
       "      <th>Tasks Created</th>\n",
       "      <th>Segments Uploaded</th>\n",
       "      <th>Email Usage</th>\n",
       "    </tr>\n",
       "  </thead>\n",
       "  <tbody>\n",
       "    <tr>\n",
       "      <th>0</th>\n",
       "      <td>agathabangun@gmail.com</td>\n",
       "      <td>80</td>\n",
       "      <td>16</td>\n",
       "      <td>112</td>\n",
       "    </tr>\n",
       "    <tr>\n",
       "      <th>1</th>\n",
       "      <td>anninditaap@gmail.com</td>\n",
       "      <td>10</td>\n",
       "      <td>9</td>\n",
       "      <td>28</td>\n",
       "    </tr>\n",
       "    <tr>\n",
       "      <th>2</th>\n",
       "      <td>design.samsoniteid@gmail.com</td>\n",
       "      <td>4</td>\n",
       "      <td>2</td>\n",
       "      <td>8</td>\n",
       "    </tr>\n",
       "    <tr>\n",
       "      <th>3</th>\n",
       "      <td>edwinaviandari98@gmail.com</td>\n",
       "      <td>2</td>\n",
       "      <td>1</td>\n",
       "      <td>4</td>\n",
       "    </tr>\n",
       "    <tr>\n",
       "      <th>4</th>\n",
       "      <td>fandy.ariyadi@gmail.com</td>\n",
       "      <td>11</td>\n",
       "      <td>0</td>\n",
       "      <td>11</td>\n",
       "    </tr>\n",
       "    <tr>\n",
       "      <th>5</th>\n",
       "      <td>indravivojadino1@gmail.com</td>\n",
       "      <td>3</td>\n",
       "      <td>2</td>\n",
       "      <td>7</td>\n",
       "    </tr>\n",
       "    <tr>\n",
       "      <th>6</th>\n",
       "      <td>mayaagi04@gmail.com</td>\n",
       "      <td>76</td>\n",
       "      <td>28</td>\n",
       "      <td>132</td>\n",
       "    </tr>\n",
       "    <tr>\n",
       "      <th>7</th>\n",
       "      <td>memeyofficemap@gmail.com</td>\n",
       "      <td>44</td>\n",
       "      <td>22</td>\n",
       "      <td>88</td>\n",
       "    </tr>\n",
       "    <tr>\n",
       "      <th>8</th>\n",
       "      <td>nadhifahwardahh@gmail.com</td>\n",
       "      <td>3</td>\n",
       "      <td>3</td>\n",
       "      <td>9</td>\n",
       "    </tr>\n",
       "    <tr>\n",
       "      <th>9</th>\n",
       "      <td>tiaramyas18@gmail.com</td>\n",
       "      <td>60</td>\n",
       "      <td>24</td>\n",
       "      <td>108</td>\n",
       "    </tr>\n",
       "    <tr>\n",
       "      <th>10</th>\n",
       "      <td>wdzelmi@gmail.com</td>\n",
       "      <td>20</td>\n",
       "      <td>12</td>\n",
       "      <td>44</td>\n",
       "    </tr>\n",
       "  </tbody>\n",
       "</table>\n",
       "</div>"
      ],
      "text/plain": [
       "                      User Email  Tasks Created  Segments Uploaded  \\\n",
       "0         agathabangun@gmail.com             80                 16   \n",
       "1          anninditaap@gmail.com             10                  9   \n",
       "2   design.samsoniteid@gmail.com              4                  2   \n",
       "3     edwinaviandari98@gmail.com              2                  1   \n",
       "4        fandy.ariyadi@gmail.com             11                  0   \n",
       "5     indravivojadino1@gmail.com              3                  2   \n",
       "6            mayaagi04@gmail.com             76                 28   \n",
       "7       memeyofficemap@gmail.com             44                 22   \n",
       "8      nadhifahwardahh@gmail.com              3                  3   \n",
       "9          tiaramyas18@gmail.com             60                 24   \n",
       "10             wdzelmi@gmail.com             20                 12   \n",
       "\n",
       "    Email Usage  \n",
       "0           112  \n",
       "1            28  \n",
       "2             8  \n",
       "3             4  \n",
       "4            11  \n",
       "5             7  \n",
       "6           132  \n",
       "7            88  \n",
       "8             9  \n",
       "9           108  \n",
       "10           44  "
      ]
     },
     "execution_count": 57,
     "metadata": {},
     "output_type": "execute_result"
    }
   ],
   "source": [
    "final_df"
   ]
  },
  {
   "cell_type": "code",
   "execution_count": 66,
   "id": "ca998601",
   "metadata": {},
   "outputs": [],
   "source": [
    "\n",
    "from openpyxl.utils.dataframe import dataframe_to_rows\n",
    "from openpyxl import Workbook\n",
    "from openpyxl.styles import Font, PatternFill, Border, Side\n",
    "\n",
    "# Save the DataFrame to an Excel file\n",
    "month_name = start_period.strftime(\"%B\")  # Get the month name (e.g., June, July, etc.)\n",
    "file_name = r\"C:\\Users\\GDA-User\\Documents\\Reyki\\kerja\\2023 by project\\SEGTOR EMAIL\\segtor-usage.ipynb\"\n",
    "\n",
    "# Create a workbook and a worksheet\n",
    "wb = Workbook()\n",
    "ws = wb.active\n",
    "\n",
    "# Add the DataFrame to the worksheet\n",
    "for r in dataframe_to_rows(final_df, index=False, header=True):\n",
    "    ws.append(r)\n",
    "\n",
    "# Apply styling to all cells\n",
    "header_font = Font(bold=True)\n",
    "header_fill = PatternFill(start_color='D3D3D3', end_color='D3D3D3', fill_type='solid')\n",
    "border = Border(left=Side(border_style='thin', color='000000'),\n",
    "                right=Side(border_style='thin', color='000000'),\n",
    "                top=Side(border_style='thin', color='000000'),\n",
    "                bottom=Side(border_style='thin', color='000000'))\n",
    "\n",
    "for row in ws.iter_rows(min_row=1, max_row=ws.max_row, min_col=1, max_col=ws.max_column):\n",
    "    for cell in row:\n",
    "        cell.font = header_font\n",
    "        cell.fill = header_fill\n",
    "        cell.border = border\n",
    "\n",
    "# Save the Excel file\n",
    "wb.save(file_name)\n"
   ]
  },
  {
   "cell_type": "code",
   "execution_count": 60,
   "id": "51981dc9",
   "metadata": {},
   "outputs": [
    {
     "name": "stdout",
     "output_type": "stream",
     "text": [
      "Email sent successfully!\n"
     ]
    }
   ],
   "source": [
    "import datetime\n",
    "import smtplib\n",
    "import base64\n",
    "from email.mime.multipart import MIMEMultipart\n",
    "from email.mime.text import MIMEText\n",
    "from email.mime.application import MIMEApplication\n",
    "# Email configuration\n",
    "sender_email = \"dp-alert@notify.gtech.digital\"\n",
    "sender_password = \"\"\n",
    "receiver_email = \"reyki.seprianza@gtech.digital\"\n",
    "subject = f\"Segtor_usage_{month_name}\"\n",
    "body = f\"Dear Mas Andi, \\nBerikut saya kirimkan segtor usage periode {month_name} \\n\"\n",
    "\n",
    "# Excel attachment configuration\n",
    "attachment_path = file_name\n",
    "\n",
    "# Compose the email\n",
    "msg = MIMEMultipart()\n",
    "msg[\"From\"] = sender_email\n",
    "msg[\"To\"] = receiver_email\n",
    "msg[\"Subject\"] = subject\n",
    "# msg[\"Cc\"] = cc_receiver_email\n",
    "\n",
    "msg.attach(MIMEText(body, \"plain\"))\n",
    "\n",
    "# Attach the Excel file\n",
    "with open(attachment_path, \"rb\") as f:\n",
    "    attachment = MIMEApplication(f.read(), _subtype=\"xlsx\")\n",
    "    attachment.add_header(\"Content-Disposition\", \"attachment\", filename=attachment_path)\n",
    "    msg.attach(attachment)\n",
    "\n",
    "# Send the email\n",
    "with smtplib.SMTP('smtpdm-ap-southeast-1.aliyun.com', 80) as server:\n",
    "    # server.starttls()\n",
    "    server.login(sender_email, sender_password)\n",
    "    server.send_message(msg)\n",
    "    print(\"Email sent successfully!\")"
   ]
  }
 ],
 "metadata": {
  "kernelspec": {
   "display_name": "Python 3 (ipykernel)",
   "language": "python",
   "name": "python3"
  },
  "language_info": {
   "codemirror_mode": {
    "name": "ipython",
    "version": 3
   },
   "file_extension": ".py",
   "mimetype": "text/x-python",
   "name": "python",
   "nbconvert_exporter": "python",
   "pygments_lexer": "ipython3",
   "version": "3.10.7"
  }
 },
 "nbformat": 4,
 "nbformat_minor": 5
}
